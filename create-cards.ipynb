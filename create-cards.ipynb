{
 "cells": [
  {
   "cell_type": "code",
   "execution_count": 1,
   "metadata": {},
   "outputs": [],
   "source": [
    "import re\n",
    "import textwrap\n",
    "%matplotlib inline\n",
    "from PIL import Image, ImageFont, ImageDraw\n",
    "\n",
    "def manueldecodage_to_unicode(txt):\n",
    "    repl = [\n",
    "        (\"A\",\"\\ua723\"),\n",
    "        (\"a\",\"\\ua725\"),\n",
    "        (\"H\",\"\\u1e25\"),\n",
    "        (\"x\",\"\\u1e2b\"),\n",
    "        (\"X\",\"\\u1e96\"),\n",
    "        (\"S\",\"\\u0161\"),\n",
    "        (\"T\",\"\\u1e6f\"),\n",
    "        (\"D\",\"\\u1e0f\"),\n",
    "        (\"i\",\"j\"),\n",
    "    ]\n",
    "    for o,r in repl:\n",
    "        txt = txt.replace(o,r)\n",
    "    return txt\n",
    "\n",
    "font = ImageFont.truetype('font/new_athena_unicode.ttf', 100)\n",
    "fonts = ImageFont.truetype('font/new_athena_unicode.ttf', 80)"
   ]
  },
  {
   "cell_type": "code",
   "execution_count": 2,
   "metadata": {},
   "outputs": [
    {
     "name": "stdout",
     "output_type": "stream",
     "text": [
      "Found 41 entries in 'dictionary2'\n"
     ]
    }
   ],
   "source": [
    "path = \"dictionary2\"\n",
    "outfolder = \"anki\"\n",
    "\n",
    "cardw = 800\n",
    "cardh = 500\n",
    "marginx = 50\n",
    "marginy = 20\n",
    "\n",
    "img = []\n",
    "translit = []\n",
    "translat = []\n",
    "with open(path+\"/\"+path+\"1.html\", \"r\") as fi:\n",
    "    for line in fi:\n",
    "        if \"<img \" in line:\n",
    "            result = re.search('src=\\'(.*)\\' width(.*)Italic\">(\\s*)(.*)</font>(.*)(<br/>|</body)', line)\n",
    "            try:\n",
    "                img.append(result.group(1))\n",
    "                translit.append(result.group(4))\n",
    "                translat.append(result.group(5))\n",
    "            except AttributeError:\n",
    "                print(\"Could not read line:\")\n",
    "                print(line)\n",
    "N = len(img)\n",
    "print(\"Found %d entries in '%s'\" % (N,path))"
   ]
  },
  {
   "cell_type": "code",
   "execution_count": 10,
   "metadata": {},
   "outputs": [
    {
     "name": "stdout",
     "output_type": "stream",
     "text": [
      "0 jrj make, do, pass (time), act as, work, beget, 3ae-inf.\n",
      "1 jrj r act against (someone), make for (a place)\n",
      "2 jrj n act for, do for\n",
      "3 jrj ḥnꜥ deal with, act with\n",
      "4 jrw form\n",
      "5 jrp wine\n",
      "6 jhm stall, 3-lit.\n",
      "7 jḥ cattle\n",
      "8 jḫ then\n",
      "9 jz tomb\n",
      "10 jzwt crew\n",
      "11 jzr tamarisk (shrub)\n",
      "12 jst place, seat, throne\n",
      "13 jsw indeed\n",
      "14 jšwt property, things\n",
      "15 jšst what? (interrogative pronoun)\n",
      "16 jšst what? (interrogative pronoun)\n",
      "17 jqr be able, accomplished, excellent, successful, 3-lit.\n",
      "18 jkmw shield\n",
      "19 jkn scoop, 3-lit., noun\n",
      "20 jtj father\n",
      "21 jtj father\n",
      "22 jtj father\n",
      "23 jty sire\n",
      "24 jty sire\n",
      "25 jtj barley, grain\n",
      "26 jtj-mḥ full barley (a species)\n",
      "27 jtmw suffocation\n",
      "28 jtn sun disk\n",
      "29 jtn contradict, 3-lit.\n",
      "30 jtnw ashes\n",
      "31 jtrw river\n",
      "32 jtrw river\n",
      "33 jtḥ draw, pull, 3-lit.\n",
      "34 jṯj take possesion of, rob, 3ae-inf.\n",
      "35 jtj take possesion of, rob, 3ae-inf.\n",
      "36 jdj be senseless, deaf, dumb, 3ae-inf.\n",
      "37 jdyt girl\n",
      "38 jdw pestilence, plague\n",
      "39 jdr herd\n",
      "40 jdr herd\n"
     ]
    }
   ],
   "source": [
    "with open(outfolder+\"/deck.tsv\",\"w\") as fo:\n",
    "    for i in range(N):\n",
    "        txt1 = manueldecodage_to_unicode(translit[i])\n",
    "        print(i, txt1, translat[i])\n",
    "        \n",
    "        fo.write(\"\\t\\t\\tcard_front_%05d.png\\tcard_back_%05d.png\\t\\t\\n\"%(i,i))\n",
    "\n",
    "        hiero = Image.open(path+\"/\"+img[i]) \n",
    "        bg = Image.new('RGBA', hiero.size, (255,255,255)) \n",
    "        hiero = Image.alpha_composite(bg, hiero) # set alpha to white\n",
    "        side1 = Image.new('RGBA', (cardw, cardh), (255, 255, 255))\n",
    "        ratio1 = hiero.size[0]/(cardw-2.*marginx)\n",
    "        ratio2 = hiero.size[1]/(cardh-2.*marginy)\n",
    "        ratio = max(ratio1,ratio2)\n",
    "        offsetx = int((cardw-hiero.size[0]/ratio-2.*marginx)/2.)\n",
    "        offsety = int((cardh-hiero.size[1]/ratio-2.*marginy)/2.)\n",
    "        side1r = hiero.resize((int(hiero.size[0]/ratio),int(hiero.size[1]/ratio)), Image.LANCZOS)\n",
    "\n",
    "        side1.paste(side1r,(marginx+offsetx,marginy+offsety))\n",
    "        side1.save(outfolder+'/card_front_%05d.png'%i, 'PNG')\n",
    "\n",
    "\n",
    "        side2 = Image.new('RGBA', (cardw, cardh), (255, 255, 255))\n",
    "        draw = ImageDraw.Draw(side2)\n",
    "        w1, h1 = font.getsize(txt1)\n",
    "        y_text = marginy\n",
    "        draw.text(((cardw-w1)/2,y_text), txt1, fill='black', font=font)\n",
    "        y_text += h1\n",
    "        \n",
    "        y_text += 0.1*h1\n",
    "        draw.line((marginx,y_text, cardw-marginx,y_text), fill=\"black\")\n",
    "        y_text += 0.1*h1\n",
    "\n",
    "        txt2 = translat[i]\n",
    "\n",
    "        lines = textwrap.wrap(txt2, width=20)\n",
    "        for line in lines:\n",
    "            w2, h2 = fonts.getsize(line)\n",
    "            \n",
    "            draw.text(((cardw-w2)/2,y_text), line, fill='black', font=fonts)\n",
    "            y_text += h2\n",
    "            \n",
    "        side2.save(outfolder+'/card_back_%05d.png'%i, 'PNG')"
   ]
  },
  {
   "cell_type": "code",
   "execution_count": 181,
   "metadata": {},
   "outputs": [],
   "source": []
  },
  {
   "cell_type": "code",
   "execution_count": null,
   "metadata": {},
   "outputs": [],
   "source": []
  }
 ],
 "metadata": {
  "kernelspec": {
   "display_name": "Python 3",
   "language": "python",
   "name": "python3"
  },
  "language_info": {
   "codemirror_mode": {
    "name": "ipython",
    "version": 3
   },
   "file_extension": ".py",
   "mimetype": "text/x-python",
   "name": "python",
   "nbconvert_exporter": "python",
   "pygments_lexer": "ipython3",
   "version": "3.7.0"
  }
 },
 "nbformat": 4,
 "nbformat_minor": 2
}
