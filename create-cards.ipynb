{
 "cells": [
  {
   "cell_type": "code",
   "execution_count": 4,
   "metadata": {},
   "outputs": [],
   "source": [
    "import re\n",
    "import textwrap\n",
    "%matplotlib inline\n",
    "from PIL import Image, ImageFont, ImageDraw\n",
    "\n",
    "def manueldecodage_to_unicode(txt):\n",
    "    repl = [\n",
    "        (\"A\",\"\\ua723\"),\n",
    "        (\"a\",\"\\ua725\"),\n",
    "        (\"H\",\"\\u1e25\"),\n",
    "        (\"x\",\"\\u1e2b\"),\n",
    "        (\"X\",\"\\u1e96\"),\n",
    "        (\"S\",\"\\u0161\"),\n",
    "        (\"T\",\"\\u1e6f\"),\n",
    "        (\"D\",\"\\u1e0f\"),\n",
    "    ]\n",
    "    for o,r in repl:\n",
    "        txt = txt.replace(o,r)\n",
    "    return txt\n",
    "\n",
    "font = ImageFont.truetype('font/new_athena_unicode.ttf', 100)\n",
    "fonts = ImageFont.truetype('font/new_athena_unicode.ttf', 80)"
   ]
  },
  {
   "cell_type": "code",
   "execution_count": 2,
   "metadata": {},
   "outputs": [
    {
     "name": "stdout",
     "output_type": "stream",
     "text": [
      "Found 22 entries in 'dictionary'\n"
     ]
    }
   ],
   "source": [
    "path = \"dictionary\"\n",
    "outfolder = \"anki\"\n",
    "\n",
    "cardw = 800\n",
    "cardh = 600\n",
    "margin = 50\n",
    "\n",
    "img = []\n",
    "translit = []\n",
    "translat = []\n",
    "with open(path+\"/dictionary1.html\", \"r\") as fi:\n",
    "    for line in fi:\n",
    "        if \"<img \" in line:\n",
    "            result = re.search('src=\\'(.*)\\' width(.*)Italic\">(\\s*)(.*)</font>(.*)<br/>', line)\n",
    "            img.append(result.group(1))\n",
    "            translit.append(result.group(4))\n",
    "            translat.append(result.group(5))\n",
    "N = len(img)\n",
    "print(\"Found %d entries in '%s'\" % (N,path))"
   ]
  },
  {
   "cell_type": "code",
   "execution_count": 3,
   "metadata": {},
   "outputs": [
    {
     "name": "stdout",
     "output_type": "stream",
     "text": [
      "0 moment, moment of rage\n",
      "1 be long, extend, 3ae-inf.\n",
      "2 happy (long of heart)\n",
      "3 length\n",
      "4 complete, entire\n",
      "5 offering-gifts\n",
      "6 gift (extending of the arm)\n",
      "7 happiness\n",
      "8 stop, 2-lit.\n",
      "9 desire, wish, 3ae-inf.\n",
      "10 mix, mingle, 3-lit.\n",
      "11 Abydos\n",
      "12 bird\n",
      "13 bird\n",
      "14 burn up, 2-lit.\n",
      "15 needy person\n",
      "16 field, plot of (cultivated) land\n",
      "17 Akhet\n",
      "18 Indundation (season)\n",
      "19 of the Indunation season (nisbe)\n",
      "20 load, 3-lit.\n",
      "21 get angry, get agressive, 2-lit.\n"
     ]
    }
   ],
   "source": [
    "with open(outfolder+\"/deck.tsv\",\"w\") as fo:\n",
    "    for i in range(N):\n",
    "        print(i, translat[i])\n",
    "        fo.write(\"\\t\\t\\tcard_front_%05d.png\\tcard_back_%05d.png\\t\\t\\n\"%(i,i))\n",
    "\n",
    "        hiero = Image.open(path+\"/\"+img[i]) \n",
    "        bg = Image.new('RGBA', hiero.size, (255,255,255)) \n",
    "        hiero = Image.alpha_composite(bg, hiero) # set alpha to white\n",
    "        side1 = Image.new('RGBA', (cardw, cardh), (255, 255, 255))\n",
    "        ratio1 = hiero.size[0]/(cardw-2.*margin)\n",
    "        ratio2 = hiero.size[1]/(cardh-2.*margin)\n",
    "        ratio = max(ratio1,ratio2)\n",
    "        offsetx = int((cardw-hiero.size[0]/ratio-2.*margin)/2.)\n",
    "        offsety = int((cardh-hiero.size[1]/ratio-2.*margin)/2.)\n",
    "        side1r = hiero.resize((int(hiero.size[0]/ratio),int(hiero.size[1]/ratio)), Image.LANCZOS)\n",
    "\n",
    "        side1.paste(side1r,(margin+offsetx,margin+offsety))\n",
    "        side1.save(outfolder+'/card_front_%05d.png'%i, 'PNG')\n",
    "\n",
    "\n",
    "        side2 = Image.new('RGBA', (cardw, cardh), (255, 255, 255))\n",
    "        draw = ImageDraw.Draw(side2)\n",
    "        txt1 = manueldecodage_to_unicode(translit[i])\n",
    "        w1, h1 = font.getsize(txt1)\n",
    "        y_text = cardh/2-h1*1.5\n",
    "        draw.text(((cardw-w1)/2,y_text), txt1, fill='black', font=font)\n",
    "        y_text += h1*0.5\n",
    "\n",
    "        txt2 = translat[i]\n",
    "\n",
    "        lines = textwrap.wrap(txt2, width=20)\n",
    "        for line in lines:\n",
    "            w2, h2 = fonts.getsize(line)\n",
    "            y_text += h2\n",
    "            draw.text(((cardw-w2)/2,y_text), line, fill='black', font=fonts)\n",
    "\n",
    "        side2.save(outfolder+'/card_back_%05d.png'%i, 'PNG')"
   ]
  },
  {
   "cell_type": "code",
   "execution_count": 181,
   "metadata": {},
   "outputs": [],
   "source": []
  },
  {
   "cell_type": "code",
   "execution_count": null,
   "metadata": {},
   "outputs": [],
   "source": []
  }
 ],
 "metadata": {
  "kernelspec": {
   "display_name": "Python 3",
   "language": "python",
   "name": "python3"
  },
  "language_info": {
   "codemirror_mode": {
    "name": "ipython",
    "version": 3
   },
   "file_extension": ".py",
   "mimetype": "text/x-python",
   "name": "python",
   "nbconvert_exporter": "python",
   "pygments_lexer": "ipython3",
   "version": "3.7.0"
  }
 },
 "nbformat": 4,
 "nbformat_minor": 2
}
